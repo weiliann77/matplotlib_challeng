{
 "cells": [
  {
   "cell_type": "markdown",
   "metadata": {},
   "source": [
    "## Observations and Insights "
   ]
  },
  {
   "cell_type": "markdown",
   "metadata": {},
   "source": []
  },
  {
   "cell_type": "code",
   "execution_count": 59,
   "metadata": {},
   "outputs": [
    {
     "data": {
      "text/html": [
       "<div>\n",
       "<style scoped>\n",
       "    .dataframe tbody tr th:only-of-type {\n",
       "        vertical-align: middle;\n",
       "    }\n",
       "\n",
       "    .dataframe tbody tr th {\n",
       "        vertical-align: top;\n",
       "    }\n",
       "\n",
       "    .dataframe thead th {\n",
       "        text-align: right;\n",
       "    }\n",
       "</style>\n",
       "<table border=\"1\" class=\"dataframe\">\n",
       "  <thead>\n",
       "    <tr style=\"text-align: right;\">\n",
       "      <th></th>\n",
       "      <th>Mouse ID</th>\n",
       "      <th>Timepoint</th>\n",
       "      <th>Tumor Volume (mm3)</th>\n",
       "      <th>Metastatic Sites</th>\n",
       "    </tr>\n",
       "  </thead>\n",
       "  <tbody>\n",
       "    <tr>\n",
       "      <th>0</th>\n",
       "      <td>b128</td>\n",
       "      <td>0</td>\n",
       "      <td>45.000000</td>\n",
       "      <td>0</td>\n",
       "    </tr>\n",
       "    <tr>\n",
       "      <th>1</th>\n",
       "      <td>f932</td>\n",
       "      <td>0</td>\n",
       "      <td>45.000000</td>\n",
       "      <td>0</td>\n",
       "    </tr>\n",
       "    <tr>\n",
       "      <th>2</th>\n",
       "      <td>g107</td>\n",
       "      <td>0</td>\n",
       "      <td>45.000000</td>\n",
       "      <td>0</td>\n",
       "    </tr>\n",
       "    <tr>\n",
       "      <th>3</th>\n",
       "      <td>a457</td>\n",
       "      <td>0</td>\n",
       "      <td>45.000000</td>\n",
       "      <td>0</td>\n",
       "    </tr>\n",
       "    <tr>\n",
       "      <th>4</th>\n",
       "      <td>c819</td>\n",
       "      <td>0</td>\n",
       "      <td>45.000000</td>\n",
       "      <td>0</td>\n",
       "    </tr>\n",
       "    <tr>\n",
       "      <th>...</th>\n",
       "      <td>...</td>\n",
       "      <td>...</td>\n",
       "      <td>...</td>\n",
       "      <td>...</td>\n",
       "    </tr>\n",
       "    <tr>\n",
       "      <th>1888</th>\n",
       "      <td>r944</td>\n",
       "      <td>45</td>\n",
       "      <td>41.581521</td>\n",
       "      <td>2</td>\n",
       "    </tr>\n",
       "    <tr>\n",
       "      <th>1889</th>\n",
       "      <td>u364</td>\n",
       "      <td>45</td>\n",
       "      <td>31.023923</td>\n",
       "      <td>3</td>\n",
       "    </tr>\n",
       "    <tr>\n",
       "      <th>1890</th>\n",
       "      <td>p438</td>\n",
       "      <td>45</td>\n",
       "      <td>61.433892</td>\n",
       "      <td>1</td>\n",
       "    </tr>\n",
       "    <tr>\n",
       "      <th>1891</th>\n",
       "      <td>x773</td>\n",
       "      <td>45</td>\n",
       "      <td>58.634971</td>\n",
       "      <td>4</td>\n",
       "    </tr>\n",
       "    <tr>\n",
       "      <th>1892</th>\n",
       "      <td>b879</td>\n",
       "      <td>45</td>\n",
       "      <td>72.555239</td>\n",
       "      <td>2</td>\n",
       "    </tr>\n",
       "  </tbody>\n",
       "</table>\n",
       "<p>1893 rows × 4 columns</p>\n",
       "</div>"
      ],
      "text/plain": [
       "     Mouse ID  Timepoint  Tumor Volume (mm3)  Metastatic Sites\n",
       "0        b128          0           45.000000                 0\n",
       "1        f932          0           45.000000                 0\n",
       "2        g107          0           45.000000                 0\n",
       "3        a457          0           45.000000                 0\n",
       "4        c819          0           45.000000                 0\n",
       "...       ...        ...                 ...               ...\n",
       "1888     r944         45           41.581521                 2\n",
       "1889     u364         45           31.023923                 3\n",
       "1890     p438         45           61.433892                 1\n",
       "1891     x773         45           58.634971                 4\n",
       "1892     b879         45           72.555239                 2\n",
       "\n",
       "[1893 rows x 4 columns]"
      ]
     },
     "execution_count": 59,
     "metadata": {},
     "output_type": "execute_result"
    }
   ],
   "source": [
    "# Dependencies and Setup\n",
    "import matplotlib.pyplot as plt\n",
    "import pandas as pd\n",
    "import scipy.stats as st\n",
    "import numpy as np\n",
    "from scipy.stats import linregress\n",
    "# Study data files\n",
    "mouse_metadata_path = \"data/Mouse_metadata.csv\"\n",
    "study_results_path = \"data/Study_results.csv\"\n",
    "\n",
    "# Read the mouse data and the study results\n",
    "mouse_metadata = pd.read_csv(mouse_metadata_path)\n",
    "study_results = pd.read_csv(study_results_path)\n",
    "\n",
    "# Combine the data into a single dataset\n",
    "mouse_metadata\n",
    "study_results"
   ]
  },
  {
   "cell_type": "code",
   "execution_count": 3,
   "metadata": {},
   "outputs": [
    {
     "data": {
      "text/html": [
       "<div>\n",
       "<style scoped>\n",
       "    .dataframe tbody tr th:only-of-type {\n",
       "        vertical-align: middle;\n",
       "    }\n",
       "\n",
       "    .dataframe tbody tr th {\n",
       "        vertical-align: top;\n",
       "    }\n",
       "\n",
       "    .dataframe thead th {\n",
       "        text-align: right;\n",
       "    }\n",
       "</style>\n",
       "<table border=\"1\" class=\"dataframe\">\n",
       "  <thead>\n",
       "    <tr style=\"text-align: right;\">\n",
       "      <th></th>\n",
       "      <th>Mouse ID</th>\n",
       "      <th>Drug Regimen</th>\n",
       "      <th>Sex</th>\n",
       "      <th>Age_months</th>\n",
       "      <th>Weight (g)</th>\n",
       "      <th>Timepoint</th>\n",
       "      <th>Tumor Volume (mm3)</th>\n",
       "      <th>Metastatic Sites</th>\n",
       "    </tr>\n",
       "  </thead>\n",
       "  <tbody>\n",
       "    <tr>\n",
       "      <th>0</th>\n",
       "      <td>k403</td>\n",
       "      <td>Ramicane</td>\n",
       "      <td>Male</td>\n",
       "      <td>21</td>\n",
       "      <td>16</td>\n",
       "      <td>0</td>\n",
       "      <td>45.000000</td>\n",
       "      <td>0</td>\n",
       "    </tr>\n",
       "    <tr>\n",
       "      <th>1</th>\n",
       "      <td>k403</td>\n",
       "      <td>Ramicane</td>\n",
       "      <td>Male</td>\n",
       "      <td>21</td>\n",
       "      <td>16</td>\n",
       "      <td>5</td>\n",
       "      <td>38.825898</td>\n",
       "      <td>0</td>\n",
       "    </tr>\n",
       "    <tr>\n",
       "      <th>2</th>\n",
       "      <td>k403</td>\n",
       "      <td>Ramicane</td>\n",
       "      <td>Male</td>\n",
       "      <td>21</td>\n",
       "      <td>16</td>\n",
       "      <td>10</td>\n",
       "      <td>35.014271</td>\n",
       "      <td>1</td>\n",
       "    </tr>\n",
       "    <tr>\n",
       "      <th>3</th>\n",
       "      <td>k403</td>\n",
       "      <td>Ramicane</td>\n",
       "      <td>Male</td>\n",
       "      <td>21</td>\n",
       "      <td>16</td>\n",
       "      <td>15</td>\n",
       "      <td>34.223992</td>\n",
       "      <td>1</td>\n",
       "    </tr>\n",
       "    <tr>\n",
       "      <th>4</th>\n",
       "      <td>k403</td>\n",
       "      <td>Ramicane</td>\n",
       "      <td>Male</td>\n",
       "      <td>21</td>\n",
       "      <td>16</td>\n",
       "      <td>20</td>\n",
       "      <td>32.997729</td>\n",
       "      <td>1</td>\n",
       "    </tr>\n",
       "    <tr>\n",
       "      <th>...</th>\n",
       "      <td>...</td>\n",
       "      <td>...</td>\n",
       "      <td>...</td>\n",
       "      <td>...</td>\n",
       "      <td>...</td>\n",
       "      <td>...</td>\n",
       "      <td>...</td>\n",
       "      <td>...</td>\n",
       "    </tr>\n",
       "    <tr>\n",
       "      <th>1888</th>\n",
       "      <td>z969</td>\n",
       "      <td>Naftisol</td>\n",
       "      <td>Male</td>\n",
       "      <td>9</td>\n",
       "      <td>30</td>\n",
       "      <td>25</td>\n",
       "      <td>63.145652</td>\n",
       "      <td>2</td>\n",
       "    </tr>\n",
       "    <tr>\n",
       "      <th>1889</th>\n",
       "      <td>z969</td>\n",
       "      <td>Naftisol</td>\n",
       "      <td>Male</td>\n",
       "      <td>9</td>\n",
       "      <td>30</td>\n",
       "      <td>30</td>\n",
       "      <td>65.841013</td>\n",
       "      <td>3</td>\n",
       "    </tr>\n",
       "    <tr>\n",
       "      <th>1890</th>\n",
       "      <td>z969</td>\n",
       "      <td>Naftisol</td>\n",
       "      <td>Male</td>\n",
       "      <td>9</td>\n",
       "      <td>30</td>\n",
       "      <td>35</td>\n",
       "      <td>69.176246</td>\n",
       "      <td>4</td>\n",
       "    </tr>\n",
       "    <tr>\n",
       "      <th>1891</th>\n",
       "      <td>z969</td>\n",
       "      <td>Naftisol</td>\n",
       "      <td>Male</td>\n",
       "      <td>9</td>\n",
       "      <td>30</td>\n",
       "      <td>40</td>\n",
       "      <td>70.314904</td>\n",
       "      <td>4</td>\n",
       "    </tr>\n",
       "    <tr>\n",
       "      <th>1892</th>\n",
       "      <td>z969</td>\n",
       "      <td>Naftisol</td>\n",
       "      <td>Male</td>\n",
       "      <td>9</td>\n",
       "      <td>30</td>\n",
       "      <td>45</td>\n",
       "      <td>73.867845</td>\n",
       "      <td>4</td>\n",
       "    </tr>\n",
       "  </tbody>\n",
       "</table>\n",
       "<p>1893 rows × 8 columns</p>\n",
       "</div>"
      ],
      "text/plain": [
       "     Mouse ID Drug Regimen   Sex  Age_months  Weight (g)  Timepoint  \\\n",
       "0        k403     Ramicane  Male          21          16          0   \n",
       "1        k403     Ramicane  Male          21          16          5   \n",
       "2        k403     Ramicane  Male          21          16         10   \n",
       "3        k403     Ramicane  Male          21          16         15   \n",
       "4        k403     Ramicane  Male          21          16         20   \n",
       "...       ...          ...   ...         ...         ...        ...   \n",
       "1888     z969     Naftisol  Male           9          30         25   \n",
       "1889     z969     Naftisol  Male           9          30         30   \n",
       "1890     z969     Naftisol  Male           9          30         35   \n",
       "1891     z969     Naftisol  Male           9          30         40   \n",
       "1892     z969     Naftisol  Male           9          30         45   \n",
       "\n",
       "      Tumor Volume (mm3)  Metastatic Sites  \n",
       "0              45.000000                 0  \n",
       "1              38.825898                 0  \n",
       "2              35.014271                 1  \n",
       "3              34.223992                 1  \n",
       "4              32.997729                 1  \n",
       "...                  ...               ...  \n",
       "1888           63.145652                 2  \n",
       "1889           65.841013                 3  \n",
       "1890           69.176246                 4  \n",
       "1891           70.314904                 4  \n",
       "1892           73.867845                 4  \n",
       "\n",
       "[1893 rows x 8 columns]"
      ]
     },
     "execution_count": 3,
     "metadata": {},
     "output_type": "execute_result"
    }
   ],
   "source": [
    "\n",
    "# df1 = mouse_metadata.join(study_results.set_index('Mouse ID'),on='Mouse ID')\n",
    "df1 = pd.merge(mouse_metadata, study_results,on='Mouse ID',how='left')\n",
    "df1"
   ]
  },
  {
   "cell_type": "code",
   "execution_count": 4,
   "metadata": {},
   "outputs": [
    {
     "data": {
      "text/plain": [
       "249"
      ]
     },
     "execution_count": 4,
     "metadata": {},
     "output_type": "execute_result"
    }
   ],
   "source": [
    "# Checking the number of mice in the DataFrame.\n",
    "# mice_num =df1.groupby(['Mouse ID']).count()\n",
    "len(df1['Mouse ID'].unique())\n"
   ]
  },
  {
   "cell_type": "code",
   "execution_count": 5,
   "metadata": {
    "scrolled": false
   },
   "outputs": [],
   "source": [
    "# Getting the duplicate mice by ID number that shows up for Mouse ID and Timepoint. \n",
    "# mice_num =df1.groupby(['Mouse ID']).count()\n",
    "# mice_num.sort_values(by=['Timepoint'], ascending=False)\n",
    "df2 = df1[df1.duplicated(subset=['Timepoint','Mouse ID'],keep=False)]\n",
    "duplicate=df2['Mouse ID'].unique()\n",
    "duplicate1=duplicate[0]"
   ]
  },
  {
   "cell_type": "code",
   "execution_count": 6,
   "metadata": {},
   "outputs": [
    {
     "data": {
      "text/html": [
       "<div>\n",
       "<style scoped>\n",
       "    .dataframe tbody tr th:only-of-type {\n",
       "        vertical-align: middle;\n",
       "    }\n",
       "\n",
       "    .dataframe tbody tr th {\n",
       "        vertical-align: top;\n",
       "    }\n",
       "\n",
       "    .dataframe thead th {\n",
       "        text-align: right;\n",
       "    }\n",
       "</style>\n",
       "<table border=\"1\" class=\"dataframe\">\n",
       "  <thead>\n",
       "    <tr style=\"text-align: right;\">\n",
       "      <th></th>\n",
       "      <th>Mouse ID</th>\n",
       "      <th>Drug Regimen</th>\n",
       "      <th>Sex</th>\n",
       "      <th>Age_months</th>\n",
       "      <th>Weight (g)</th>\n",
       "      <th>Timepoint</th>\n",
       "      <th>Tumor Volume (mm3)</th>\n",
       "      <th>Metastatic Sites</th>\n",
       "    </tr>\n",
       "  </thead>\n",
       "  <tbody>\n",
       "    <tr>\n",
       "      <th>908</th>\n",
       "      <td>g989</td>\n",
       "      <td>Propriva</td>\n",
       "      <td>Female</td>\n",
       "      <td>21</td>\n",
       "      <td>26</td>\n",
       "      <td>0</td>\n",
       "      <td>45.000000</td>\n",
       "      <td>0</td>\n",
       "    </tr>\n",
       "    <tr>\n",
       "      <th>909</th>\n",
       "      <td>g989</td>\n",
       "      <td>Propriva</td>\n",
       "      <td>Female</td>\n",
       "      <td>21</td>\n",
       "      <td>26</td>\n",
       "      <td>0</td>\n",
       "      <td>45.000000</td>\n",
       "      <td>0</td>\n",
       "    </tr>\n",
       "    <tr>\n",
       "      <th>910</th>\n",
       "      <td>g989</td>\n",
       "      <td>Propriva</td>\n",
       "      <td>Female</td>\n",
       "      <td>21</td>\n",
       "      <td>26</td>\n",
       "      <td>5</td>\n",
       "      <td>48.786801</td>\n",
       "      <td>0</td>\n",
       "    </tr>\n",
       "    <tr>\n",
       "      <th>911</th>\n",
       "      <td>g989</td>\n",
       "      <td>Propriva</td>\n",
       "      <td>Female</td>\n",
       "      <td>21</td>\n",
       "      <td>26</td>\n",
       "      <td>5</td>\n",
       "      <td>47.570392</td>\n",
       "      <td>0</td>\n",
       "    </tr>\n",
       "    <tr>\n",
       "      <th>912</th>\n",
       "      <td>g989</td>\n",
       "      <td>Propriva</td>\n",
       "      <td>Female</td>\n",
       "      <td>21</td>\n",
       "      <td>26</td>\n",
       "      <td>10</td>\n",
       "      <td>51.745156</td>\n",
       "      <td>0</td>\n",
       "    </tr>\n",
       "    <tr>\n",
       "      <th>913</th>\n",
       "      <td>g989</td>\n",
       "      <td>Propriva</td>\n",
       "      <td>Female</td>\n",
       "      <td>21</td>\n",
       "      <td>26</td>\n",
       "      <td>10</td>\n",
       "      <td>49.880528</td>\n",
       "      <td>0</td>\n",
       "    </tr>\n",
       "    <tr>\n",
       "      <th>914</th>\n",
       "      <td>g989</td>\n",
       "      <td>Propriva</td>\n",
       "      <td>Female</td>\n",
       "      <td>21</td>\n",
       "      <td>26</td>\n",
       "      <td>15</td>\n",
       "      <td>51.325852</td>\n",
       "      <td>1</td>\n",
       "    </tr>\n",
       "    <tr>\n",
       "      <th>915</th>\n",
       "      <td>g989</td>\n",
       "      <td>Propriva</td>\n",
       "      <td>Female</td>\n",
       "      <td>21</td>\n",
       "      <td>26</td>\n",
       "      <td>15</td>\n",
       "      <td>53.442020</td>\n",
       "      <td>0</td>\n",
       "    </tr>\n",
       "    <tr>\n",
       "      <th>916</th>\n",
       "      <td>g989</td>\n",
       "      <td>Propriva</td>\n",
       "      <td>Female</td>\n",
       "      <td>21</td>\n",
       "      <td>26</td>\n",
       "      <td>20</td>\n",
       "      <td>55.326122</td>\n",
       "      <td>1</td>\n",
       "    </tr>\n",
       "    <tr>\n",
       "      <th>917</th>\n",
       "      <td>g989</td>\n",
       "      <td>Propriva</td>\n",
       "      <td>Female</td>\n",
       "      <td>21</td>\n",
       "      <td>26</td>\n",
       "      <td>20</td>\n",
       "      <td>54.657650</td>\n",
       "      <td>1</td>\n",
       "    </tr>\n",
       "  </tbody>\n",
       "</table>\n",
       "</div>"
      ],
      "text/plain": [
       "    Mouse ID Drug Regimen     Sex  Age_months  Weight (g)  Timepoint  \\\n",
       "908     g989     Propriva  Female          21          26          0   \n",
       "909     g989     Propriva  Female          21          26          0   \n",
       "910     g989     Propriva  Female          21          26          5   \n",
       "911     g989     Propriva  Female          21          26          5   \n",
       "912     g989     Propriva  Female          21          26         10   \n",
       "913     g989     Propriva  Female          21          26         10   \n",
       "914     g989     Propriva  Female          21          26         15   \n",
       "915     g989     Propriva  Female          21          26         15   \n",
       "916     g989     Propriva  Female          21          26         20   \n",
       "917     g989     Propriva  Female          21          26         20   \n",
       "\n",
       "     Tumor Volume (mm3)  Metastatic Sites  \n",
       "908           45.000000                 0  \n",
       "909           45.000000                 0  \n",
       "910           48.786801                 0  \n",
       "911           47.570392                 0  \n",
       "912           51.745156                 0  \n",
       "913           49.880528                 0  \n",
       "914           51.325852                 1  \n",
       "915           53.442020                 0  \n",
       "916           55.326122                 1  \n",
       "917           54.657650                 1  "
      ]
     },
     "execution_count": 6,
     "metadata": {},
     "output_type": "execute_result"
    }
   ],
   "source": [
    "# Optional: Get all the data for the duplicate mouse ID. \n",
    "df2"
   ]
  },
  {
   "cell_type": "code",
   "execution_count": 7,
   "metadata": {},
   "outputs": [
    {
     "data": {
      "text/html": [
       "<div>\n",
       "<style scoped>\n",
       "    .dataframe tbody tr th:only-of-type {\n",
       "        vertical-align: middle;\n",
       "    }\n",
       "\n",
       "    .dataframe tbody tr th {\n",
       "        vertical-align: top;\n",
       "    }\n",
       "\n",
       "    .dataframe thead th {\n",
       "        text-align: right;\n",
       "    }\n",
       "</style>\n",
       "<table border=\"1\" class=\"dataframe\">\n",
       "  <thead>\n",
       "    <tr style=\"text-align: right;\">\n",
       "      <th></th>\n",
       "      <th>Mouse ID</th>\n",
       "      <th>Drug Regimen</th>\n",
       "      <th>Sex</th>\n",
       "      <th>Age_months</th>\n",
       "      <th>Weight (g)</th>\n",
       "      <th>Timepoint</th>\n",
       "      <th>Tumor Volume (mm3)</th>\n",
       "      <th>Metastatic Sites</th>\n",
       "    </tr>\n",
       "  </thead>\n",
       "  <tbody>\n",
       "    <tr>\n",
       "      <th>0</th>\n",
       "      <td>k403</td>\n",
       "      <td>Ramicane</td>\n",
       "      <td>Male</td>\n",
       "      <td>21</td>\n",
       "      <td>16</td>\n",
       "      <td>0</td>\n",
       "      <td>45.000000</td>\n",
       "      <td>0</td>\n",
       "    </tr>\n",
       "    <tr>\n",
       "      <th>1</th>\n",
       "      <td>k403</td>\n",
       "      <td>Ramicane</td>\n",
       "      <td>Male</td>\n",
       "      <td>21</td>\n",
       "      <td>16</td>\n",
       "      <td>5</td>\n",
       "      <td>38.825898</td>\n",
       "      <td>0</td>\n",
       "    </tr>\n",
       "    <tr>\n",
       "      <th>2</th>\n",
       "      <td>k403</td>\n",
       "      <td>Ramicane</td>\n",
       "      <td>Male</td>\n",
       "      <td>21</td>\n",
       "      <td>16</td>\n",
       "      <td>10</td>\n",
       "      <td>35.014271</td>\n",
       "      <td>1</td>\n",
       "    </tr>\n",
       "    <tr>\n",
       "      <th>3</th>\n",
       "      <td>k403</td>\n",
       "      <td>Ramicane</td>\n",
       "      <td>Male</td>\n",
       "      <td>21</td>\n",
       "      <td>16</td>\n",
       "      <td>15</td>\n",
       "      <td>34.223992</td>\n",
       "      <td>1</td>\n",
       "    </tr>\n",
       "    <tr>\n",
       "      <th>4</th>\n",
       "      <td>k403</td>\n",
       "      <td>Ramicane</td>\n",
       "      <td>Male</td>\n",
       "      <td>21</td>\n",
       "      <td>16</td>\n",
       "      <td>20</td>\n",
       "      <td>32.997729</td>\n",
       "      <td>1</td>\n",
       "    </tr>\n",
       "    <tr>\n",
       "      <th>...</th>\n",
       "      <td>...</td>\n",
       "      <td>...</td>\n",
       "      <td>...</td>\n",
       "      <td>...</td>\n",
       "      <td>...</td>\n",
       "      <td>...</td>\n",
       "      <td>...</td>\n",
       "      <td>...</td>\n",
       "    </tr>\n",
       "    <tr>\n",
       "      <th>1888</th>\n",
       "      <td>z969</td>\n",
       "      <td>Naftisol</td>\n",
       "      <td>Male</td>\n",
       "      <td>9</td>\n",
       "      <td>30</td>\n",
       "      <td>25</td>\n",
       "      <td>63.145652</td>\n",
       "      <td>2</td>\n",
       "    </tr>\n",
       "    <tr>\n",
       "      <th>1889</th>\n",
       "      <td>z969</td>\n",
       "      <td>Naftisol</td>\n",
       "      <td>Male</td>\n",
       "      <td>9</td>\n",
       "      <td>30</td>\n",
       "      <td>30</td>\n",
       "      <td>65.841013</td>\n",
       "      <td>3</td>\n",
       "    </tr>\n",
       "    <tr>\n",
       "      <th>1890</th>\n",
       "      <td>z969</td>\n",
       "      <td>Naftisol</td>\n",
       "      <td>Male</td>\n",
       "      <td>9</td>\n",
       "      <td>30</td>\n",
       "      <td>35</td>\n",
       "      <td>69.176246</td>\n",
       "      <td>4</td>\n",
       "    </tr>\n",
       "    <tr>\n",
       "      <th>1891</th>\n",
       "      <td>z969</td>\n",
       "      <td>Naftisol</td>\n",
       "      <td>Male</td>\n",
       "      <td>9</td>\n",
       "      <td>30</td>\n",
       "      <td>40</td>\n",
       "      <td>70.314904</td>\n",
       "      <td>4</td>\n",
       "    </tr>\n",
       "    <tr>\n",
       "      <th>1892</th>\n",
       "      <td>z969</td>\n",
       "      <td>Naftisol</td>\n",
       "      <td>Male</td>\n",
       "      <td>9</td>\n",
       "      <td>30</td>\n",
       "      <td>45</td>\n",
       "      <td>73.867845</td>\n",
       "      <td>4</td>\n",
       "    </tr>\n",
       "  </tbody>\n",
       "</table>\n",
       "<p>1880 rows × 8 columns</p>\n",
       "</div>"
      ],
      "text/plain": [
       "     Mouse ID Drug Regimen   Sex  Age_months  Weight (g)  Timepoint  \\\n",
       "0        k403     Ramicane  Male          21          16          0   \n",
       "1        k403     Ramicane  Male          21          16          5   \n",
       "2        k403     Ramicane  Male          21          16         10   \n",
       "3        k403     Ramicane  Male          21          16         15   \n",
       "4        k403     Ramicane  Male          21          16         20   \n",
       "...       ...          ...   ...         ...         ...        ...   \n",
       "1888     z969     Naftisol  Male           9          30         25   \n",
       "1889     z969     Naftisol  Male           9          30         30   \n",
       "1890     z969     Naftisol  Male           9          30         35   \n",
       "1891     z969     Naftisol  Male           9          30         40   \n",
       "1892     z969     Naftisol  Male           9          30         45   \n",
       "\n",
       "      Tumor Volume (mm3)  Metastatic Sites  \n",
       "0              45.000000                 0  \n",
       "1              38.825898                 0  \n",
       "2              35.014271                 1  \n",
       "3              34.223992                 1  \n",
       "4              32.997729                 1  \n",
       "...                  ...               ...  \n",
       "1888           63.145652                 2  \n",
       "1889           65.841013                 3  \n",
       "1890           69.176246                 4  \n",
       "1891           70.314904                 4  \n",
       "1892           73.867845                 4  \n",
       "\n",
       "[1880 rows x 8 columns]"
      ]
     },
     "execution_count": 7,
     "metadata": {},
     "output_type": "execute_result"
    }
   ],
   "source": [
    "# Create a clean DataFrame by dropping the duplicate mouse by its ID.\n",
    "dfc=df1[df1['Mouse ID']!=duplicate1]\n",
    "dfc"
   ]
  },
  {
   "cell_type": "code",
   "execution_count": 8,
   "metadata": {},
   "outputs": [
    {
     "data": {
      "text/plain": [
       "248"
      ]
     },
     "execution_count": 8,
     "metadata": {},
     "output_type": "execute_result"
    }
   ],
   "source": [
    "# Checking the number of mice in the clean DataFrame.\n",
    "len(dfc['Mouse ID'].unique())\n"
   ]
  },
  {
   "cell_type": "markdown",
   "metadata": {},
   "source": [
    "## Summary Statistics"
   ]
  },
  {
   "cell_type": "code",
   "execution_count": 9,
   "metadata": {},
   "outputs": [
    {
     "data": {
      "text/html": [
       "<div>\n",
       "<style scoped>\n",
       "    .dataframe tbody tr th:only-of-type {\n",
       "        vertical-align: middle;\n",
       "    }\n",
       "\n",
       "    .dataframe tbody tr th {\n",
       "        vertical-align: top;\n",
       "    }\n",
       "\n",
       "    .dataframe thead th {\n",
       "        text-align: right;\n",
       "    }\n",
       "</style>\n",
       "<table border=\"1\" class=\"dataframe\">\n",
       "  <thead>\n",
       "    <tr style=\"text-align: right;\">\n",
       "      <th></th>\n",
       "      <th>variance</th>\n",
       "      <th>St Dev</th>\n",
       "      <th>SEM</th>\n",
       "      <th>mean</th>\n",
       "      <th>median</th>\n",
       "    </tr>\n",
       "    <tr>\n",
       "      <th>Drug Regimen</th>\n",
       "      <th></th>\n",
       "      <th></th>\n",
       "      <th></th>\n",
       "      <th></th>\n",
       "      <th></th>\n",
       "    </tr>\n",
       "  </thead>\n",
       "  <tbody>\n",
       "    <tr>\n",
       "      <th>Capomulin</th>\n",
       "      <td>24.947764</td>\n",
       "      <td>4.994774</td>\n",
       "      <td>4.994774</td>\n",
       "      <td>40.675741</td>\n",
       "      <td>41.557809</td>\n",
       "    </tr>\n",
       "    <tr>\n",
       "      <th>Ceftamin</th>\n",
       "      <td>39.290177</td>\n",
       "      <td>6.268188</td>\n",
       "      <td>6.268188</td>\n",
       "      <td>52.591172</td>\n",
       "      <td>51.776157</td>\n",
       "    </tr>\n",
       "    <tr>\n",
       "      <th>Infubinol</th>\n",
       "      <td>43.128684</td>\n",
       "      <td>6.567243</td>\n",
       "      <td>6.567243</td>\n",
       "      <td>52.884795</td>\n",
       "      <td>51.820584</td>\n",
       "    </tr>\n",
       "    <tr>\n",
       "      <th>Ketapril</th>\n",
       "      <td>68.553577</td>\n",
       "      <td>8.279709</td>\n",
       "      <td>8.279709</td>\n",
       "      <td>55.235638</td>\n",
       "      <td>53.698743</td>\n",
       "    </tr>\n",
       "    <tr>\n",
       "      <th>Naftisol</th>\n",
       "      <td>66.173479</td>\n",
       "      <td>8.134708</td>\n",
       "      <td>8.134708</td>\n",
       "      <td>54.331565</td>\n",
       "      <td>52.509285</td>\n",
       "    </tr>\n",
       "    <tr>\n",
       "      <th>Placebo</th>\n",
       "      <td>61.168083</td>\n",
       "      <td>7.821003</td>\n",
       "      <td>7.821003</td>\n",
       "      <td>54.033581</td>\n",
       "      <td>52.288934</td>\n",
       "    </tr>\n",
       "    <tr>\n",
       "      <th>Propriva</th>\n",
       "      <td>43.852013</td>\n",
       "      <td>6.622085</td>\n",
       "      <td>6.622085</td>\n",
       "      <td>52.320930</td>\n",
       "      <td>50.446266</td>\n",
       "    </tr>\n",
       "    <tr>\n",
       "      <th>Ramicane</th>\n",
       "      <td>23.486704</td>\n",
       "      <td>4.846308</td>\n",
       "      <td>4.846308</td>\n",
       "      <td>40.216745</td>\n",
       "      <td>40.673236</td>\n",
       "    </tr>\n",
       "    <tr>\n",
       "      <th>Stelasyn</th>\n",
       "      <td>59.450562</td>\n",
       "      <td>7.710419</td>\n",
       "      <td>7.710419</td>\n",
       "      <td>54.233149</td>\n",
       "      <td>52.431737</td>\n",
       "    </tr>\n",
       "    <tr>\n",
       "      <th>Zoniferol</th>\n",
       "      <td>48.533355</td>\n",
       "      <td>6.966589</td>\n",
       "      <td>6.966589</td>\n",
       "      <td>53.236507</td>\n",
       "      <td>51.818479</td>\n",
       "    </tr>\n",
       "  </tbody>\n",
       "</table>\n",
       "</div>"
      ],
      "text/plain": [
       "               variance    St Dev       SEM       mean     median\n",
       "Drug Regimen                                                     \n",
       "Capomulin     24.947764  4.994774  4.994774  40.675741  41.557809\n",
       "Ceftamin      39.290177  6.268188  6.268188  52.591172  51.776157\n",
       "Infubinol     43.128684  6.567243  6.567243  52.884795  51.820584\n",
       "Ketapril      68.553577  8.279709  8.279709  55.235638  53.698743\n",
       "Naftisol      66.173479  8.134708  8.134708  54.331565  52.509285\n",
       "Placebo       61.168083  7.821003  7.821003  54.033581  52.288934\n",
       "Propriva      43.852013  6.622085  6.622085  52.320930  50.446266\n",
       "Ramicane      23.486704  4.846308  4.846308  40.216745  40.673236\n",
       "Stelasyn      59.450562  7.710419  7.710419  54.233149  52.431737\n",
       "Zoniferol     48.533355  6.966589  6.966589  53.236507  51.818479"
      ]
     },
     "execution_count": 9,
     "metadata": {},
     "output_type": "execute_result"
    }
   ],
   "source": [
    "# Generate a summary statistics table of mean, median, variance, standard deviation, and SEM of the tumor volume for each regimen\n",
    "\n",
    "# This method is the most straightforward, creating multiple series and putting them all together at the end.\n",
    "mean1 = dfc.groupby(['Drug Regimen']).mean()\n",
    "mean2 =mean1[['Tumor Volume (mm3)']]\n",
    "mean2 =mean2.rename(columns={'Tumor Volume (mm3)':'mean'})\n",
    "median1 = dfc.groupby(['Drug Regimen']).median()\n",
    "median2 =median1[['Tumor Volume (mm3)']]\n",
    "median2 =median2.rename(columns={'Tumor Volume (mm3)':'median'})\n",
    "var1 = dfc.groupby(['Drug Regimen']).var()\n",
    "var2 =var1[['Tumor Volume (mm3)']]\n",
    "var2 =var2.rename(columns={'Tumor Volume (mm3)':'variance'})\n",
    "std1 = dfc.groupby(['Drug Regimen']).std()\n",
    "std2 =std1[['Tumor Volume (mm3)']]\n",
    "std2 = std2.rename(columns={'Tumor Volume (mm3)':'St Dev'})\n",
    "sem1 = dfc.groupby(['Drug Regimen']).std()\n",
    "sem2 =sem1[['Tumor Volume (mm3)']]\n",
    "sem2 = sem2.rename(columns={'Tumor Volume (mm3)':'SEM'})\n",
    "\n",
    "df11 = pd.merge(mean2,median2,on='Drug Regimen',how='left')\n",
    "df12 = pd.merge(var2,std2,on='Drug Regimen',how='left')\n",
    "df13 = pd.merge(df12,sem2,on='Drug Regimen',how='left')\n",
    "df14 =pd.merge(df13,df11,on='Drug Regimen',how='left')\n",
    "df14"
   ]
  },
  {
   "cell_type": "code",
   "execution_count": null,
   "metadata": {},
   "outputs": [],
   "source": []
  },
  {
   "cell_type": "code",
   "execution_count": 10,
   "metadata": {
    "scrolled": true
   },
   "outputs": [],
   "source": [
    "# Generate a summary statistics table of mean, median, variance, standard deviation, and SEM of the tumor volume for each regimen\n",
    "\n",
    "# This method produces everything in a single groupby function."
   ]
  },
  {
   "cell_type": "markdown",
   "metadata": {},
   "source": [
    "## Bar Plots"
   ]
  },
  {
   "cell_type": "code",
   "execution_count": 11,
   "metadata": {},
   "outputs": [
    {
     "data": {
      "image/png": "[encoded data removed]",
      "text/plain": [
       "<Figure size 432x288 with 1 Axes>"
      ]
     },
     "metadata": {
      "needs_background": "light"
     },
     "output_type": "display_data"
    },
    {
     "data": {
      "image/png": "[encoded data removed]",
      "text/plain": [
       "<Figure size 432x288 with 1 Axes>"
      ]
     },
     "metadata": {
      "needs_background": "light"
     },
     "output_type": "display_data"
    },
    {
     "data": {
      "image/png": "[encoded data removed]",
      "text/plain": [
       "<Figure size 432x288 with 1 Axes>"
      ]
     },
     "metadata": {
      "needs_background": "light"
     },
     "output_type": "display_data"
    },
    {
     "data": {
      "image/png": "[encoded data removed]",
      "text/plain": [
       "<Figure size 432x288 with 1 Axes>"
      ]
     },
     "metadata": {
      "needs_background": "light"
     },
     "output_type": "display_data"
    },
    {
     "data": {
      "image/png": "[encoded data removed]",
      "text/plain": [
       "<Figure size 432x288 with 1 Axes>"
      ]
     },
     "metadata": {
      "needs_background": "light"
     },
     "output_type": "display_data"
    },
    {
     "data": {
      "image/png": "[encoded data removed]",
      "text/plain": [
       "<Figure size 432x288 with 1 Axes>"
      ]
     },
     "metadata": {
      "needs_background": "light"
     },
     "output_type": "display_data"
    },
    {
     "data": {
      "image/png": "[encoded data removed]",
      "text/plain": [
       "<Figure size 432x288 with 1 Axes>"
      ]
     },
     "metadata": {
      "needs_background": "light"
     },
     "output_type": "display_data"
    },
    {
     "data": {
      "image/png": "[encoded data removed]",
      "text/plain": [
       "<Figure size 432x288 with 1 Axes>"
      ]
     },
     "metadata": {
      "needs_background": "light"
     },
     "output_type": "display_data"
    },
    {
     "data": {
      "image/png": "[encoded data removed]",
      "text/plain": [
       "<Figure size 432x288 with 1 Axes>"
      ]
     },
     "metadata": {
      "needs_background": "light"
     },
     "output_type": "display_data"
    },
    {
     "data": {
      "image/png": "[encoded data removed]",
      "text/plain": [
       "<Figure size 432x288 with 1 Axes>"
      ]
     },
     "metadata": {
      "needs_background": "light"
     },
     "output_type": "display_data"
    },
    {
     "data": {
      "image/png": "[encoded data removed]",
      "text/plain": [
       "<Figure size 432x288 with 1 Axes>"
      ]
     },
     "metadata": {
      "needs_background": "light"
     },
     "output_type": "display_data"
    }
   ],
   "source": [
    "# Generate a bar plot showing the number of mice per time point for each treatment throughout the course of the study using pandas.\n",
    "Drugs = df14.index.values\n",
    "ax = plt.subplot(111)\n",
    "for drug in Drugs:\n",
    "    dfc2 =dfc[dfc['Drug Regimen']==drug]\n",
    "    dfc1=dfc2.groupby('Timepoint').count()\n",
    "    dfc1=dfc1[['Mouse ID']]\n",
    "#     plt.bar(np.vectorize(dfc1.index.values),np.vectorize(dfc1[['Mouse ID']]))\n",
    "    dfc1 =dfc1.rename(columns={'Mouse ID':drug})\n",
    "    dfc1.plot(kind='bar')\n",
    "#     plts.savefig(drug+'.png',dpi=400)\n",
    "\n",
    "plt.show()\n",
    "    "
   ]
  },
  {
   "cell_type": "code",
   "execution_count": 80,
   "metadata": {},
   "outputs": [
    {
     "data": {
      "image/png": "[encoded data removed]",
      "text/plain": [
       "<Figure size 432x288 with 1 Axes>"
      ]
     },
     "metadata": {
      "needs_background": "light"
     },
     "output_type": "display_data"
    },
    {
     "data": {
      "image/png": "[encoded data removed]",
      "text/plain": [
       "<Figure size 432x288 with 1 Axes>"
      ]
     },
     "metadata": {
      "needs_background": "light"
     },
     "output_type": "display_data"
    },
    {
     "data": {
      "image/png": "[encoded data removed]",
      "text/plain": [
       "<Figure size 432x288 with 1 Axes>"
      ]
     },
     "metadata": {
      "needs_background": "light"
     },
     "output_type": "display_data"
    },
    {
     "data": {
      "image/png": "[encoded data removed]",
      "text/plain": [
       "<Figure size 432x288 with 1 Axes>"
      ]
     },
     "metadata": {
      "needs_background": "light"
     },
     "output_type": "display_data"
    },
    {
     "data": {
      "image/png": "[encoded data removed]",
      "text/plain": [
       "<Figure size 432x288 with 1 Axes>"
      ]
     },
     "metadata": {
      "needs_background": "light"
     },
     "output_type": "display_data"
    },
    {
     "data": {
      "image/png": "[encoded data removed]",
      "text/plain": [
       "<Figure size 432x288 with 1 Axes>"
      ]
     },
     "metadata": {
      "needs_background": "light"
     },
     "output_type": "display_data"
    },
    {
     "data": {
      "image/png": "[encoded data removed]",
      "text/plain": [
       "<Figure size 432x288 with 1 Axes>"
      ]
     },
     "metadata": {
      "needs_background": "light"
     },
     "output_type": "display_data"
    },
    {
     "data": {
      "image/png": "[encoded data removed]",
      "text/plain": [
       "<Figure size 432x288 with 1 Axes>"
      ]
     },
     "metadata": {
      "needs_background": "light"
     },
     "output_type": "display_data"
    },
    {
     "data": {
      "image/png": "[encoded data removed]",
      "text/plain": [
       "<Figure size 432x288 with 1 Axes>"
      ]
     },
     "metadata": {
      "needs_background": "light"
     },
     "output_type": "display_data"
    },
    {
     "data": {
      "image/png": "[encoded data removed]",
      "text/plain": [
       "<Figure size 432x288 with 1 Axes>"
      ]
     },
     "metadata": {
      "needs_background": "light"
     },
     "output_type": "display_data"
    }
   ],
   "source": [
    "# Generate a bar plot showing the number of mice per time point for each treatment throughout the course of the study using pyplot.\n",
    "# dfc1.plot\n",
    "# plt.show()\n",
    "\n",
    "Drugs = df14.index.values\n",
    "ax = plt.subplot(111)\n",
    "xx = np.arange(0,50,5)\n",
    "for drug in Drugs:\n",
    "    dfc2 =dfc[dfc['Drug Regimen']==drug]\n",
    "    dfc1=dfc2.groupby('Timepoint').count()\n",
    "    dfc1=dfc1[['Mouse ID']]\n",
    "    xaxis=np.arange(len(dfc1.index))\n",
    "#     plt.bar(np.vectorize(dfc1.index.values),np.vectorize(dfc1[['Mouse ID']]))\n",
    "    dfc1 =dfc1.rename(columns={'Mouse ID':drug})\n",
    "#   dfc1.plot(kind='bar')\n",
    "#     autolabel(plotter)\n",
    "    plotter =dfc1[drug].tolist()\n",
    "    plt.title(drug)\n",
    "    \n",
    "    plt.xticks(xaxis,xx)\n",
    "    plt.bar(xaxis,plotter)\n",
    "    plt.ylabel('Tumor Volume (mm3)')\n",
    "    plt.xlabel('Timepoint')\n",
    "    plt.show()\n",
    " \n",
    "#     plts.savefig(drug+'.png',dpi=400)\n",
    "\n",
    "# plt.show()\n",
    "# dfc1[[drug]]"
   ]
  },
  {
   "cell_type": "markdown",
   "metadata": {},
   "source": [
    "## Pie Plots"
   ]
  },
  {
   "cell_type": "code",
   "execution_count": 13,
   "metadata": {},
   "outputs": [
    {
     "data": {
      "text/plain": [
       "<matplotlib.axes._subplots.AxesSubplot at 0x22661627c40>"
      ]
     },
     "execution_count": 13,
     "metadata": {},
     "output_type": "execute_result"
    },
    {
     "data": {
      "image/png": "[encoded data removed]",
      "text/plain": [
       "<Figure size 360x360 with 1 Axes>"
      ]
     },
     "metadata": {},
     "output_type": "display_data"
    }
   ],
   "source": [
    "# Generate a pie plot showing the distribution of female versus male mice using pandas\n",
    "sex1 =dfc.groupby(['Sex']).count()\n",
    "sex1=sex1[['Mouse ID']]\n",
    "sex1 =sex1.rename(columns={'Mouse ID':'Sex'})\n",
    "sex1.plot.pie(y='Sex',figsize=(5, 5))"
   ]
  },
  {
   "cell_type": "code",
   "execution_count": 14,
   "metadata": {},
   "outputs": [
    {
     "name": "stderr",
     "output_type": "stream",
     "text": [
      "<ipython-input-14-0882646d8abd>:6: MatplotlibDeprecationWarning: Non-1D inputs to pie() are currently squeeze()d, but this behavior is deprecated since 3.1 and will be removed in 3.3; pass a 1D array instead.\n",
      "  plt.pie(sizes, explode=explode, labels=labels, colors=colors,\n"
     ]
    },
    {
     "data": {
      "text/plain": [
       "([<matplotlib.patches.Wedge at 0x226616ae400>,\n",
       "  <matplotlib.patches.Wedge at 0x226616ae8b0>],\n",
       " [Text(-0.7320888280116858, -0.8210030133321538, 'Female'),\n",
       "  Text(0.7320888280116862, 0.8210030133321533, 'Male')],\n",
       " [Text(-0.399321178915465, -0.447819825453902, '49.04%'),\n",
       "  Text(0.39932117891546515, 0.4478198254539018, '50.96%')])"
      ]
     },
     "execution_count": 14,
     "metadata": {},
     "output_type": "execute_result"
    },
    {
     "data": {
      "image/png": "[encoded data removed]",
      "text/plain": [
       "<Figure size 432x288 with 1 Axes>"
      ]
     },
     "metadata": {},
     "output_type": "display_data"
    }
   ],
   "source": [
    "# Generate a pie plot showing the distribution of female versus male mice using pyplot\n",
    "labels = sex1.index.values\n",
    "sizes = sex1[['Sex']]\n",
    "explode = ( 0, 0)\n",
    "colors = [\"lightcoral\", \"lightskyblue\"]\n",
    "plt.pie(sizes, explode=explode, labels=labels, colors=colors,\n",
    "        autopct=\"%.2f%%\", startangle=140)"
   ]
  },
  {
   "cell_type": "markdown",
   "metadata": {},
   "source": [
    "## Quartiles, Outliers and Boxplots"
   ]
  },
  {
   "cell_type": "code",
   "execution_count": 41,
   "metadata": {},
   "outputs": [
    {
     "name": "stdout",
     "output_type": "stream",
     "text": [
      "Capomulin\n",
      "lower bound is 20.71\n",
      "min value is 23.34\n",
      "lower quartile is 32.38\n",
      "upper quartile is 40.16\n",
      "max value is 47.69\n",
      "upper bound is 28.49\n",
      "Ceftamin\n",
      "lower bound is 25.35\n",
      "min value is 45.0\n",
      "lower quartile is 48.72\n",
      "upper quartile is 64.3\n",
      "max value is 68.92\n",
      "upper bound is 40.93\n",
      "Infubinol\n",
      "lower bound is 36.83\n",
      "min value is 36.32\n",
      "lower quartile is 54.05\n",
      "upper quartile is 65.53\n",
      "max value is 72.23\n",
      "upper bound is 48.31\n",
      "Ketapril\n",
      "lower bound is 36.99\n",
      "min value is 45.0\n",
      "lower quartile is 56.72\n",
      "upper quartile is 69.87\n",
      "max value is 78.57\n",
      "upper bound is 50.14\n",
      "Naftisol\n",
      "lower bound is 25.86\n",
      "min value is 45.0\n",
      "lower quartile is 52.08\n",
      "upper quartile is 69.56\n",
      "max value is 76.67\n",
      "upper bound is 43.34\n",
      "Placebo\n",
      "lower bound is 30.16\n",
      "min value is 45.0\n",
      "lower quartile is 52.94\n",
      "upper quartile is 68.13\n",
      "max value is 73.21\n",
      "upper bound is 45.34\n",
      "Propriva\n",
      "lower bound is 28.76\n",
      "min value is 45.0\n",
      "lower quartile is 49.12\n",
      "upper quartile is 62.69\n",
      "max value is 72.46\n",
      "upper bound is 42.33\n",
      "Ramicane\n",
      "lower bound is 17.91\n",
      "min value is 22.05\n",
      "lower quartile is 31.56\n",
      "upper quartile is 40.66\n",
      "max value is 45.22\n",
      "upper bound is 27.01\n",
      "Stelasyn\n",
      "lower bound is 27.55\n",
      "min value is 45.0\n",
      "lower quartile is 52.48\n",
      "upper quartile is 69.1\n",
      "max value is 75.12\n",
      "upper bound is 44.17\n",
      "Zoniferol\n",
      "lower bound is 24.79\n",
      "min value is 45.0\n",
      "lower quartile is 49.99\n",
      "upper quartile is 66.79\n",
      "max value is 73.32\n",
      "upper bound is 41.59\n",
      "The 4 most promisting Drug Regimens by tumor volume are\n",
      "['Ramicane' 'Capomulin' 'Propriva' 'Ceftamin']\n",
      "Drug regimens with large tumor volume outliers\n",
      "['Capomulin', 'Ceftamin', 'Infubinol', 'Ketapril', 'Naftisol', 'Placebo', 'Propriva', 'Ramicane', 'Stelasyn', 'Zoniferol']\n"
     ]
    }
   ],
   "source": [
    "# Calculate the final tumor volume of each mouse across four of the most promising treatment regimens.\n",
    "# Calculate the IQR and quantitatively determine if there are any potential outliers. \n",
    "tumor_old =dfc.groupby('Mouse ID').max()\n",
    "tumor_time = tumor_old[['Timepoint']]\n",
    "dfc_new =dfc.set_index(['Mouse ID'])\n",
    "tumor_fix=pd.merge(dfc_new,tumor_time,on='Mouse ID',how='left')\n",
    "tumor = tumor_fix[tumor_fix['Timepoint_x']==tumor_fix['Timepoint_y']]\n",
    "\n",
    "tumor2 = tumor.groupby('Drug Regimen').mean()\n",
    "tumor2= tumor2[['Tumor Volume (mm3)']]\n",
    "tumor2 = tumor2.sort_values(by=['Tumor Volume (mm3)'])\n",
    "tumor3=tumor2.head(4)\n",
    "# fig1, ax1 = plt.subplots()\n",
    "outliers=[]\n",
    "for drug in Drugs:\n",
    "    tum_looper =tumor[tumor['Drug Regimen']==drug]\n",
    "    tum_looper=tum_looper[['Tumor Volume (mm3)']]\n",
    "    q0=round(tum_looper['Tumor Volume (mm3)'].quantile(0),2)\n",
    "    q4=round(tum_looper['Tumor Volume (mm3)'].quantile(1),2)\n",
    "    q1=round(tum_looper['Tumor Volume (mm3)'].quantile(.25),2)\n",
    "    q3=round(tum_looper['Tumor Volume (mm3)'].quantile(.75),2)\n",
    "    IQR = q3-q1\n",
    "    lower_bound =round(q1-(1.5*IQR),2)\n",
    "    upper_bound =round(q3-(1.5*IQR),2)\n",
    "    print(drug)\n",
    "    print(f\"lower bound is {lower_bound}\")\n",
    "    print(f\"min value is {q0}\")\n",
    "    print(f\"lower quartile is {q1}\")\n",
    "    print(f\"upper quartile is {q3}\")\n",
    "    print(f\"max value is {q4}\")\n",
    "    print(f\"upper bound is {upper_bound}\")\n",
    "    if q4>upper_bound:\n",
    "        outliers.append(drug)\n",
    "   #     if (tumor3['Tumor Volume (mm3)'].index.values==drug).any():\n",
    "#         fig1, ax1 = plt.subplots()       \n",
    "#         ax1.boxplot(tum_looper['Tumor Volume (mm3)'].tolist())\n",
    "#         plt.show()\n",
    "\n",
    "        \n",
    "        \n",
    "print(\"The 4 most promisting Drug Regimens by tumor volume are\") \n",
    "print(tumor3['Tumor Volume (mm3)'].index.values)\n",
    "print('Drug regimens with large tumor volume outliers')\n",
    "print(outliers)\n",
    "\n",
    "\n"
   ]
  },
  {
   "cell_type": "code",
   "execution_count": null,
   "metadata": {},
   "outputs": [],
   "source": []
  },
  {
   "cell_type": "code",
   "execution_count": 42,
   "metadata": {},
   "outputs": [
    {
     "data": {
      "image/png": "[encoded data removed]",
      "text/plain": [
       "<Figure size 432x288 with 1 Axes>"
      ]
     },
     "metadata": {
      "needs_background": "light"
     },
     "output_type": "display_data"
    },
    {
     "data": {
      "image/png": "[encoded data removed]",
      "text/plain": [
       "<Figure size 432x288 with 1 Axes>"
      ]
     },
     "metadata": {
      "needs_background": "light"
     },
     "output_type": "display_data"
    },
    {
     "data": {
      "image/png": "[encoded data removed]",
      "text/plain": [
       "<Figure size 432x288 with 1 Axes>"
      ]
     },
     "metadata": {
      "needs_background": "light"
     },
     "output_type": "display_data"
    },
    {
     "data": {
      "image/png": "[encoded data removed]",
      "text/plain": [
       "<Figure size 432x288 with 1 Axes>"
      ]
     },
     "metadata": {
      "needs_background": "light"
     },
     "output_type": "display_data"
    }
   ],
   "source": [
    "# Generate a box plot of the final tumor volume of each mouse across four regimens of interest\n",
    "for drug in Drugs:\n",
    "    tum_looper =tumor[tumor['Drug Regimen']==drug]\n",
    "    tum_looper=tum_looper[['Tumor Volume (mm3)']]\n",
    "    if (tumor3['Tumor Volume (mm3)'].index.values==drug).any():\n",
    "        fig1, ax1 = plt.subplots() \n",
    "        ax1.set_title(drug)\n",
    "        ax1.set_ylabel('Tumor Volume (mm3)')\n",
    "        ax1.boxplot(tum_looper['Tumor Volume (mm3)'].tolist())\n",
    "        plt.show()\n"
   ]
  },
  {
   "cell_type": "code",
   "execution_count": null,
   "metadata": {},
   "outputs": [],
   "source": []
  },
  {
   "cell_type": "markdown",
   "metadata": {},
   "source": [
    "## Line and Scatter Plots"
   ]
  },
  {
   "cell_type": "code",
   "execution_count": 53,
   "metadata": {},
   "outputs": [
    {
     "data": {
      "image/png": "[encoded data removed]",
      "text/plain": [
       "<Figure size 432x288 with 1 Axes>"
      ]
     },
     "metadata": {
      "needs_background": "light"
     },
     "output_type": "display_data"
    }
   ],
   "source": [
    "# Generate a line plot of time point versus tumor volume for a mouse treated with Capomulin\n",
    "# Drugs = df14.index.values\n",
    "# ax = plt.subplot(111)\n",
    "drug='Capomulin'\n",
    "dfc2 =dfc[dfc['Drug Regimen']==drug]\n",
    "dfc1=dfc2.groupby('Timepoint').count()\n",
    "dfc1=dfc1[['Mouse ID']]\n",
    "#     plt.bar(np.vectorize(dfc1.index.values),np.vectorize(dfc1[['Mouse ID']]))\n",
    "dfc1 =dfc1.rename(columns={'Mouse ID':drug})\n",
    "plt.title(f\"Average {drug} Mouse data\")\n",
    "plt.ylabel('Tumor Volume (mm3)')\n",
    "plt.xlabel('Timepoint')\n",
    "plt.plot(dfc1)\n",
    "    \n",
    "#     plts.savefig(drug+'.png',dpi=400)\n",
    "\n",
    "plt.show()"
   ]
  },
  {
   "cell_type": "code",
   "execution_count": 62,
   "metadata": {},
   "outputs": [
    {
     "name": "stdout",
     "output_type": "stream",
     "text": [
      "The r-squared is: 0.27636002234559165\n"
     ]
    },
    {
     "data": {
      "image/png": "[encoded data removed]",
      "text/plain": [
       "<Figure size 432x288 with 1 Axes>"
      ]
     },
     "metadata": {
      "needs_background": "light"
     },
     "output_type": "display_data"
    }
   ],
   "source": [
    "# Generate a scatter plot of mouse weight versus average tumor volume for the Capomulin regimen\n",
    "capo=dfc[dfc['Drug Regimen']==drug]\n",
    "\n",
    "x_values = capo['Weight (g)']\n",
    "y_values =capo['Tumor Volume (mm3)']\n",
    "(slope, intercept, rvalue, pvalue, stderr) = linregress(x_values, y_values)\n",
    "regress_values = x_values * slope + intercept\n",
    "line_eq = \"y = \" + str(round(slope,2)) + \"x + \" + str(round(intercept,2))\n",
    "plt.scatter(x_values,y_values)\n",
    "plt.plot(x_values,regress_values,\"r-\")\n",
    "plt.annotate(line_eq,(6,10),fontsize=15,color=\"red\")\n",
    "plt.title(f'{drug}')\n",
    "plt.ylabel('Tumor Volume (mm3)')\n",
    "plt.xlabel('Weight')\n",
    "print(f\"The r-squared is: {rvalue**2}\")\n",
    "plt.show()\n",
    "\n"
   ]
  },
  {
   "cell_type": "markdown",
   "metadata": {},
   "source": [
    "## Correlation and Regression"
   ]
  },
  {
   "cell_type": "code",
   "execution_count": 17,
   "metadata": {},
   "outputs": [],
   "source": [
    "# Calculate the correlation coefficient and linear regression model \n",
    "# for mouse weight and average tumor volume for the Capomulin regimen\n"
   ]
  },
  {
   "cell_type": "code",
   "execution_count": null,
   "metadata": {},
   "outputs": [],
   "source": []
  }
 ],
 "metadata": {
  "anaconda-cloud": {},
  "kernelspec": {
   "display_name": "Python [conda env:PythonData]",
   "language": "python",
   "name": "conda-env-PythonData-py"
  },
  "language_info": {
   "codemirror_mode": {
    "name": "ipython",
    "version": 3
   },
   "file_extension": ".py",
   "mimetype": "text/x-python",
   "name": "python",
   "nbconvert_exporter": "python",
   "pygments_lexer": "ipython3",
   "version": "3.8.3"
  }
 },
 "nbformat": 4,
 "nbformat_minor": 2
}
